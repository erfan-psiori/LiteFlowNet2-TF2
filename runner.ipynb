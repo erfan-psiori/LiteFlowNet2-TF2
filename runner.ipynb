{
 "cells": [
  {
   "cell_type": "code",
   "execution_count": null,
   "metadata": {},
   "outputs": [],
   "source": [
    "!pip uninstall --yes tensorflow-gpu\n",
    "!pip uninstall --yes tensorflow_addons"
   ]
  },
  {
   "cell_type": "code",
   "execution_count": null,
   "metadata": {},
   "outputs": [],
   "source": [
    "!pip install --upgrade pip\n",
    "!pip install --user tensorflow-gpu==2.3.0\n",
    "!pip install --user tensorflow_addons==0.11.2"
   ]
  },
  {
   "cell_type": "code",
   "execution_count": null,
   "metadata": {},
   "outputs": [],
   "source": [
    "!sudo apt-get -y update\n",
    "!sudo apt-get -y install imagemagick"
   ]
  },
  {
   "cell_type": "code",
   "execution_count": 1,
   "metadata": {},
   "outputs": [
    {
     "name": "stderr",
     "output_type": "stream",
     "text": [
      "/root/.local/lib/python3.8/site-packages/tensorflow_addons/utils/resource_loader.py:72: UserWarning: You are currently using TensorFlow 2.3.0 and trying to load a custom op (custom_ops/layers/_correlation_cost_ops.so).\n",
      "TensorFlow Addons has compiled its custom ops against TensorFlow 2.2.0, and there are no compatibility guarantees between the two versions. \n",
      "This means that you might get segfaults when loading the custom op, or other kind of low-level errors.\n",
      " If you do, do not file an issue on Github. This is a known limitation.\n",
      "\n",
      "It might help you to fallback to pure Python ops with TF_ADDONS_PY_OPS . To do that, see https://github.com/tensorflow/addons#gpucpu-custom-ops \n",
      "\n",
      "You can also change the TensorFlow version installed on your system. You would need a TensorFlow version equal to or above 2.2.0 and strictly below 2.3.0.\n",
      " Note that nightly versions of TensorFlow, as well as non-pip TensorFlow like `conda install tensorflow` or compiled from source are not supported.\n",
      "\n",
      "The last solution is to find the TensorFlow Addons version that has custom ops compatible with the TensorFlow installed on your system. To do that, refer to the readme: https://github.com/tensorflow/addons\n",
      "  warnings.warn(\n"
     ]
    },
    {
     "name": "stdout",
     "output_type": "stream",
     "text": [
      "INFO:tensorflow:Restoring parameters from ./models/LiteFlowNet2_Sintel_model\n",
      "0\n",
      "results/1000.png\n",
      "1\n",
      "results/1001.png\n",
      "2\n",
      "results/1002.png\n",
      "3\n",
      "results/1003.png\n",
      "4\n",
      "results/1004.png\n",
      "5\n",
      "results/1005.png\n",
      "6\n",
      "results/1006.png\n",
      "7\n",
      "results/1007.png\n",
      "8\n",
      "results/1008.png\n",
      "9\n",
      "results/1009.png\n",
      "10\n",
      "results/1010.png\n",
      "11\n",
      "results/1011.png\n",
      "12\n",
      "results/1012.png\n",
      "13\n",
      "results/1013.png\n",
      "14\n",
      "results/1014.png\n",
      "15\n",
      "results/1015.png\n",
      "16\n",
      "results/1016.png\n",
      "17\n",
      "results/1017.png\n",
      "18\n",
      "results/1018.png\n",
      "19\n",
      "results/1019.png\n",
      "20\n",
      "results/1020.png\n",
      "21\n",
      "results/1021.png\n",
      "22\n",
      "results/1022.png\n",
      "23\n",
      "results/1023.png\n",
      "24\n",
      "results/1024.png\n",
      "25\n",
      "results/1025.png\n",
      "26\n",
      "results/1026.png\n",
      "27\n",
      "results/1027.png\n",
      "28\n",
      "results/1028.png\n",
      "29\n",
      "results/1029.png\n"
     ]
    }
   ],
   "source": [
    "import os\n",
    "from pathlib import Path\n",
    "from eval import eval\n",
    "from model import LiteFlowNet2\n",
    "\n",
    "# import tensorflow as tf\n",
    "import tensorflow.compat.v1 as tf\n",
    "\n",
    "set1 = \"../../data/autocrane_minicrane_sliplogs/images1\"\n",
    "set2 = \"../../data/autocrane_minicrane_sliplogs/images2\"\n",
    "use_Sintel = True\n",
    "\n",
    "tf.disable_eager_execution()\n",
    "# Create TF session\n",
    "sess = tf.Session()\n",
    "model = LiteFlowNet2(isSintel=use_Sintel)\n",
    "tens1 = tf.placeholder(tf.float32, shape=[None, None, None, 3])\n",
    "tens2 = tf.placeholder(tf.float32, shape=[None, None, None, 3])\n",
    "out = model(tens1, tens2)\n",
    "# Load model\n",
    "saver = tf.train.Saver()\n",
    "if use_Sintel:\n",
    "    saver.restore(sess, \"./models/LiteFlowNet2_Sintel_model\")\n",
    "else:\n",
    "    saver.restore(sess, \"./models/LiteFlowNet2_Kitti_model\")\n",
    "    \n",
    "for i, (img1, img2) in enumerate(zip(sorted(os.listdir(set1)), sorted(os.listdir(set2)))):\n",
    "    path1 = f\"{set1}/{img1}\"\n",
    "    path2 = f\"{set2}/{img2}\"\n",
    "    output = f\"results/{i+1000}.png\"\n",
    "    eval(img1=path1, img2=path2, img_out=output, sess=sess, model=model, tens1=tens1, tens2=tens2, out=out)\n",
    "    print(output)"
   ]
  },
  {
   "cell_type": "code",
   "execution_count": null,
   "metadata": {},
   "outputs": [],
   "source": [
    "!convert -delay 10 -loop 0 results/*.png flow.gif"
   ]
  },
  {
   "cell_type": "markdown",
   "metadata": {},
   "source": [
    "# Why Is it not finding the GPU?"
   ]
  },
  {
   "cell_type": "code",
   "execution_count": null,
   "metadata": {},
   "outputs": [],
   "source": [
    "import tensorflow as tf"
   ]
  },
  {
   "cell_type": "code",
   "execution_count": null,
   "metadata": {},
   "outputs": [],
   "source": [
    "tf.test.is_gpu_available()"
   ]
  },
  {
   "cell_type": "code",
   "execution_count": null,
   "metadata": {},
   "outputs": [],
   "source": [
    "tf.config.list_physical_devices('GPU')"
   ]
  },
  {
   "cell_type": "code",
   "execution_count": null,
   "metadata": {},
   "outputs": [],
   "source": [
    "tf.test.is_built_with_cuda()"
   ]
  },
  {
   "cell_type": "code",
   "execution_count": null,
   "metadata": {},
   "outputs": [],
   "source": [
    "!nvcc -V"
   ]
  },
  {
   "cell_type": "code",
   "execution_count": null,
   "metadata": {},
   "outputs": [],
   "source": [
    "!nvidia-smi"
   ]
  },
  {
   "cell_type": "code",
   "execution_count": 11,
   "metadata": {},
   "outputs": [],
   "source": []
  }
 ],
 "metadata": {
  "kernelspec": {
   "display_name": "Python 3",
   "language": "python",
   "name": "python3"
  },
  "language_info": {
   "codemirror_mode": {
    "name": "ipython",
    "version": 3
   },
   "file_extension": ".py",
   "mimetype": "text/x-python",
   "name": "python",
   "nbconvert_exporter": "python",
   "pygments_lexer": "ipython3",
   "version": "3.8.6"
  }
 },
 "nbformat": 4,
 "nbformat_minor": 4
}
